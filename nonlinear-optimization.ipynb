{
 "cells": [
  {
   "cell_type": "markdown",
   "id": "b425e6f4-1b5f-4556-a1fd-ae1c1c30e843",
   "metadata": {},
   "source": [
    "# Assignment 2"
   ]
  },
  {
   "cell_type": "markdown",
   "id": "e67077df-27fa-4a88-b662-d82a3322efb4",
   "metadata": {},
   "source": [
    "The first step is loading some python packages which are going to be used during the whole notebook."
   ]
  },
  {
   "cell_type": "code",
   "execution_count": 1,
   "id": "89db17d2-c4a0-4640-bfe5-e1ab2c82fbd7",
   "metadata": {},
   "outputs": [],
   "source": [
    "import numpy as np\n",
    "import time\n",
    "import matplotlib.pyplot as plt\n",
    "import random\n",
    "plt.style.use('ggplot')"
   ]
  },
  {
   "cell_type": "markdown",
   "id": "24ecb33e-c5e4-4f13-a7bf-3ec6036876e5",
   "metadata": {},
   "source": [
    "The aim is adjusting a multiple linear regression model to explain a variable $y$ as a function of other variables $X$, $y = X \\beta + \\epsilon$, where $\\beta$ are the adjusted regression coefficients and $\\epsilon$ the regression error. For this purpose, the **Ridge Regression** is used, where the objective is to minimize the function:\n",
    "\n",
    "\\begin{align*}\n",
    "    \\underset{\\beta}{\\min} \\quad \\lVert y - X \\beta \\rVert_2^2 + \\rho \\lVert \\beta\\rVert_2^2 \n",
    "\\end{align*}\n",
    "\n",
    "In order to clarify the elements and dimensions of the problem, if there are $n$ **samples** or instances and $k$ **variables**:\n",
    "\n",
    "* Explained variable: $\\underset{(nx1)}{y}$\n",
    "* Variables used to explain $y$: $\\underset{(nx(k+1))}{X}$\n",
    "* Regression coefficients: $\\underset{((k+1)x1)}{\\beta}$\n",
    "* Regression error: $\\underset{(nx1)}{\\epsilon}$\n",
    "\n",
    "\n",
    "Now the data is generated randomly. Remark that variable `nsample` corresponds with $n$ and `nvars` with $k$. The values of $\\beta$ are between -5 and 5, and the ones of $X$ from 0 to 10. Mention that $\\rho$ is a parameter which is fixed during the whole problem to 1."
   ]
  },
  {
   "cell_type": "code",
   "execution_count": 2,
   "id": "49c3b095-4032-44c4-a074-d706b9b4ddee",
   "metadata": {},
   "outputs": [
    {
     "name": "stdout",
     "output_type": "stream",
     "text": [
      "The problem has n=1000 samples with k=100 variables\n",
      "\n",
      "Dimensions y:\t\t(1000, 1)\n",
      "Dimensions X:\t\t(1000, 101)\n",
      "Dimensions beta:\t(101, 1)\n",
      "Dimensions epsilon:\t(1000, 1)\n"
     ]
    }
   ],
   "source": [
    "# Dimensions of the problem\n",
    "nsample = 1000 # = n\n",
    "nvars = 100    # = k\n",
    "\n",
    "# Original values of beta\n",
    "beta = np.random.randint(-5, 6, size=([nvars+1,1])) \n",
    "\n",
    "# Values for the X's\n",
    "X0 = np.ones([nsample, 1]) # column of ones for beta_0\n",
    "X1 = np.random.uniform(0, 10, ([nsample, nvars]))\n",
    "X = np.concatenate([X0, X1], axis = 1)\n",
    "\n",
    "# Values for the normal errors, they follow a gaussian distribution\n",
    "error = np.random.normal(0, 1,(nsample,1))\n",
    "\n",
    "# Values for the y's\n",
    "y = np.dot(X, beta) + error\n",
    "\n",
    "# Value for rho\n",
    "rho = 1\n",
    "\n",
    "# Print dimesions\n",
    "print(f'The problem has n={nsample} samples with k={nvars} variables\\n')\n",
    "print(f'Dimensions y:\\t\\t{y.shape}')\n",
    "print(f'Dimensions X:\\t\\t{X.shape}')\n",
    "print(f'Dimensions beta:\\t{beta.shape}')\n",
    "print(f'Dimensions epsilon:\\t{error.shape}')"
   ]
  },
  {
   "cell_type": "markdown",
   "id": "a6aa321d-157e-4d85-bd6f-d11c71862254",
   "metadata": {},
   "source": [
    "## A. Analytical solution \n",
    "\n",
    "The value of the regression coefficients can be obtained by an analytical solution:\n",
    "\n",
    "\\begin{align*}\n",
    "    \\beta^{\\ast} = (X^TX + \\rho I)^{-1}X^Ty\n",
    "\\end{align*}\n",
    "\n",
    "These ones are the optimal values. For this reason, solutions given by iterative methods can be compared with this one in order to see their performance."
   ]
  },
  {
   "cell_type": "code",
   "execution_count": 3,
   "id": "e18f3219-315c-429d-8e31-4b8bab4d9d7e",
   "metadata": {},
   "outputs": [],
   "source": [
    "beta_exact = np.linalg.inv(X.T.dot(X) + rho * np.eye(X.shape[1])).dot(X.T).dot(y)"
   ]
  },
  {
   "cell_type": "markdown",
   "id": "165496a6-0cae-4e11-931e-7f4d5a68ae8b",
   "metadata": {},
   "source": [
    "With the following function a specific number of $\\beta$ values chosen randomly are printed together with the optimal value."
   ]
  },
  {
   "cell_type": "code",
   "execution_count": 4,
   "id": "abb4d172-0f9d-401b-9532-3c7252057af0",
   "metadata": {},
   "outputs": [
    {
     "name": "stdout",
     "output_type": "stream",
     "text": [
      "--------------------------------------------------\n",
      "| Index      | Beta            | Optimal beta    |\n",
      "--------------------------------------------------\n",
      "| 75         | 1.98095         | 1.98095         |\n",
      "--------------------------------------------------\n",
      "| 85         | 1.98991         | 1.98991         |\n",
      "--------------------------------------------------\n",
      "| 60         | -3.9954         | -3.9954         |\n",
      "--------------------------------------------------\n",
      "| 79         | -2.98967        | -2.98967        |\n",
      "--------------------------------------------------\n",
      "| 61         | 4.99514         | 4.99514         |\n",
      "--------------------------------------------------\n"
     ]
    }
   ],
   "source": [
    "def print_beta(beta, ks=5):\n",
    "    '''Print ks values of given beta and beta_exact\n",
    "    \n",
    "    Args:\n",
    "        beta (numpy array): obtained beta to compare\n",
    "        ks (int): number of samples to print\n",
    "        \n",
    "    '''\n",
    "    if ks > nvars+1:\n",
    "        print(f'Choose ks smaller than {nvars+1}')\n",
    "        return\n",
    "    if len(beta.shape) == 1:\n",
    "        beta = np.matrix(beta).T\n",
    "    elif beta.shape[0] == 1:\n",
    "        beta = beta.T\n",
    "    index = random.sample(range(nvars+1), ks)\n",
    "    beta_s = beta[index, 0]\n",
    "    beta_opt_s = beta_exact[index]\n",
    "    print('-'*50)\n",
    "    print(f\"| {'Index':<10} | {'Beta':<15} | {'Optimal beta':<15} |\")\n",
    "    print('-'*50)\n",
    "    i = 0\n",
    "    for idx in index:\n",
    "        print(f\"| {idx:<10} | {round(beta[idx, 0], 5):<15} | {round(beta_exact[idx, 0], 5):<15} |\")\n",
    "        i += 1\n",
    "        print('-'*50)\n",
    "        \n",
    "print_beta(beta_exact)"
   ]
  },
  {
   "cell_type": "markdown",
   "id": "64f7a025-89a7-49db-a5b7-a3039006f5a0",
   "metadata": {
    "jupyter": {
     "outputs_hidden": true
    },
    "tags": []
   },
   "source": [
    "## B. Scipy\n",
    "\n",
    "In order to solve this section and next ones, the gradient and hessian of the Ridge regression are calculated. The expression can be formulated as:\n",
    "\n",
    "\\begin{align*}\n",
    "    \\lVert y - X \\beta \\rVert_2^2 + \\rho \\lVert \\beta\\rVert_2^2 = \\\\\n",
    "    \\sum_{i=i}^n (y_i - (\\beta_0 + \\beta_1 x_{1i} + \\dots + \\beta_{ki}))^2 + \\rho \\sum_{j=1}^k \\beta_j^2 = f(\\beta^*)\n",
    "\\end{align*}\n",
    "\n",
    "The gradient corresponds with a vector of dimensions $((k+1)x1)$, where each position $j$ is the partial derivative of the function respect one regression coefficient $\\beta_j$.\n",
    "\n",
    "\\begin{align*}\n",
    "    \\nabla f(\\left.\\beta^{*} \\right)=\\left[\\begin{array}{c}\n",
    "    \\dfrac{\\partial f}{\\partial \\beta_0}(\\left.\\beta^{*}\\right) \\\\\n",
    "    \\dfrac{\\partial f}{\\partial \\beta_1}(\\left.\\beta^{*}\\right) \\\\\n",
    "    \\vdots \\\\\n",
    "    \\dfrac{\\partial f}{\\partial \\beta_k}(\\left.\\beta^{*}\\right)\n",
    "    \\end{array}\\right]\n",
    "\\end{align*}\n",
    "\n",
    "Each derivative can be formulated as:\n",
    "\n",
    "\\begin{align*}\n",
    "     \\dfrac{\\partial f}{\\partial \\beta_j}(\\left.\\beta^{*}\\right) = \\sum_{i=1}^n 2(y_i - (\\beta_0 + \\beta_1 x_{1i} + \\dots + \\beta_k x_{ki} + \\dots + \\beta_j x_{ji})) (-x_{ji}) + 2 \\rho \\beta_j\n",
    "\\end{align*}\n",
    "\n",
    "Applying vector operations, the **gradient vector** $\\underset{((k+1)x1)}{\\nabla f(\\left.\\beta^{*} \\right)}$ is equal to:\n",
    "\n",
    "\\begin{align*}\n",
    "    \\nabla f(\\left.\\beta^{*} \\right) = -2(y - X\\beta)^T X + 2\\rho \\beta^T\n",
    "\\end{align*}\n",
    "\n",
    "Now, in order to calculate the Hessian matrix, it is required to differentiate the previous expression. In order to illustrate the process, each partial derivative is:\n",
    "\n",
    "\\begin{align*}\n",
    "     \\dfrac{\\partial f^2}{\\partial \\beta_j}(\\left.\\beta^{*}\\right) = \\sum_{i=1}^n 2 x_{ji}^2 + 2 \\rho\n",
    "\\end{align*}\n",
    "\n",
    "Then, the **hessian matrix** $\\underset{((k+1)x(k+1))}{\\nabla^2 f(\\left.\\beta^{*} \\right)}$ is equal to:\n",
    "\n",
    "\\begin{align*}\n",
    "    \\nabla^2 f(\\left.\\beta^{*} \\right) = 2 X^T X + 2\\rho I\n",
    "\\end{align*}\n",
    "\n",
    "Then, these two expression as well as the Ridge regression are written in Python in next cell."
   ]
  },
  {
   "cell_type": "code",
   "execution_count": 5,
   "id": "c92c898d-3c3a-405d-b41f-0d75c448bee3",
   "metadata": {},
   "outputs": [],
   "source": [
    "# Ridge regression objective\n",
    "def ridge_reg(beta_r, X, y):\n",
    "    '''Implement Ridge Regression\n",
    "    \n",
    "    '''\n",
    "    beta_r = np.matrix(beta_r)\n",
    "    z = y - np.dot(X, beta_r.T)\n",
    "    return np.dot(z.T,z) + rho*np.sum(np.square(beta_r))\n",
    "\n",
    "# Gradient\n",
    "def ridge_reg_der(beta_r, X, y):\n",
    "    '''Implement gradient Ridge Regression\n",
    "    '''\n",
    "    beta_r = np.matrix(beta_r)\n",
    "    pp = -2*np.dot((y-np.dot(X,(beta_r).T)).T,X) + 2*rho*beta_r\n",
    "    aa = np.squeeze(np.asarray(pp))\n",
    "    return aa\n",
    "\n",
    "# Hessian\n",
    "def ridge_reg_hess(beta_r, X, y):\n",
    "    '''Implement Hessian Ridge Regression\n",
    "    \n",
    "    '''\n",
    "    ss = 2*np.dot(np.transpose(X),X) + 2*rho*np.identity(X.shape[1])\n",
    "    return ss"
   ]
  },
  {
   "cell_type": "markdown",
   "id": "608a6dbd-7ce6-4d8b-9f3f-4934b8a5e522",
   "metadata": {},
   "source": [
    "The following function is used to print statistics of each solver used. It shows:\n",
    "\n",
    "* **Error**, compared with the values of beta obtained by the analytical solution.\n",
    "* Computational **time** in seconds.\n",
    "* Number of **iterations**.\n",
    "* Number of **function evaluations**.\n",
    "* Number of **gradient evaluations** (if the gradient is used).\n",
    "* Number of **hessian evaluations** (if the hessian is used)."
   ]
  },
  {
   "cell_type": "code",
   "execution_count": 6,
   "id": "33cee55a-069e-4c65-837a-2f509f17b47c",
   "metadata": {},
   "outputs": [],
   "source": [
    "solvers_dic = {}\n",
    "\n",
    "def show_solver_stats(methods='all'):\n",
    "    '''Prints statistics of the used scipy solvers\n",
    "    \n",
    "    '''\n",
    "    print('-'*127)\n",
    "    print(f\"| {'Method':<15} | {'Error':<10} | {'Iterations':<10} | {'Function evaluations':<20} | {'Gradient evaluations':<20} | {'Hessian evaluations':<20} | {'Time (sec)':<10} |\")\n",
    "    print('-'*127)\n",
    "    if methods == 'all':\n",
    "        methods = list(solvers_dic.keys())\n",
    "    elif isinstance(methods, str):\n",
    "        methods = [methods]\n",
    "    for method in methods:\n",
    "        print(f\"| {method:<15} | {solvers_dic[method]['err']:<10} | {solvers_dic[method]['nit']:<10} | {solvers_dic[method]['nfev']:<20} | {solvers_dic[method]['njev']:<20} | {solvers_dic[method]['nhev']:<20} | {solvers_dic[method]['time']:<10} |\")\n",
    "        print('-'*127)"
   ]
  },
  {
   "cell_type": "markdown",
   "id": "c981a05a-e621-4c78-a978-d208750361cc",
   "metadata": {},
   "source": [
    "It is employed `scipy.optimize.minimize` with four different solvers. Next function runs the algorithm, given the solver as `method` and with optional parameters to input the gradient and hessian functions as well as other parameters for the scipy solver. The parameter `ks` can be used to print the solved $\\beta^*$ and compare them with the analytical solution."
   ]
  },
  {
   "cell_type": "code",
   "execution_count": 7,
   "id": "73b706b8-1798-4cf0-ae05-7966497d1eae",
   "metadata": {},
   "outputs": [],
   "source": [
    "from scipy.optimize import minimize\n",
    "\n",
    "def run_solver(method, ks=5, jac=None, hess=None, options=None):\n",
    "    '''Run given method using scipy.optimie.minimize\n",
    "    \n",
    "    '''\n",
    "    # Init dic specific method\n",
    "    solvers_dic[method] = {}\n",
    "    \n",
    "    # Initial beta\n",
    "    beta_0 = np.zeros(nvars+1)\n",
    "\n",
    "    # Start time\n",
    "    time_start = time.process_time()\n",
    "\n",
    "    # Solve the optimization algorithm using Newton-CG\n",
    "    res = minimize(ridge_reg, beta_0, args=(X, y), jac=jac, hess=hess, method=method, options=options) \n",
    "\n",
    "    # Measure elapsed time\n",
    "    time_elapsed = (time.process_time() - time_start)\n",
    "\n",
    "    # The error compares the obtained solution to the optimal solution (analytical)\n",
    "    err = np.linalg.norm(beta_exact.T-res.x,ord=2)/np.linalg.norm(beta_exact.T,ord=2)\n",
    "    \n",
    "    # Gradient evaluations\n",
    "    if jac is None:\n",
    "        njev = 'Not used'\n",
    "    else:\n",
    "        njev = res.njev\n",
    "        \n",
    "    # Hessian evaluations\n",
    "    if hess is None:\n",
    "        nhev = 'Not used'\n",
    "    else:\n",
    "        nhev = res.nhev\n",
    "\n",
    "    # Save stats\n",
    "    solvers_dic[method]['err'] = round(err, 5)               # error\n",
    "    solvers_dic[method]['nit'] = res.nit                     # number of iterations\n",
    "    solvers_dic[method]['nfev'] = res.nfev                   # number of function evaluations\n",
    "    solvers_dic[method]['njev'] = njev                       # number of gradient evaluations\n",
    "    solvers_dic[method]['nhev'] = nhev                       # number of hessian evaluations\n",
    "    solvers_dic[method]['time'] = round(time_elapsed, 5)     # computational time\n",
    "\n",
    "    # Show stats\n",
    "    show_solver_stats(method)\n",
    "    \n",
    "    # Show beta\n",
    "    if ks > 0:\n",
    "        print_beta(res.x, ks)"
   ]
  },
  {
   "cell_type": "markdown",
   "id": "bce46cb5-3e26-4ef3-a4b1-cc91657ebee6",
   "metadata": {},
   "source": [
    "### B.1. Newton-CG\n",
    "\n",
    "It employs the gradient and the hessian."
   ]
  },
  {
   "cell_type": "code",
   "execution_count": 8,
   "id": "7414695e-e331-4bc5-8785-6907a15ba989",
   "metadata": {},
   "outputs": [
    {
     "name": "stdout",
     "output_type": "stream",
     "text": [
      "-------------------------------------------------------------------------------------------------------------------------------\n",
      "| Method          | Error      | Iterations | Function evaluations | Gradient evaluations | Hessian evaluations  | Time (sec) |\n",
      "-------------------------------------------------------------------------------------------------------------------------------\n",
      "| Newton-CG       | 0.0        | 22         | 25                   | 25                   | 22                   | 0.26807    |\n",
      "-------------------------------------------------------------------------------------------------------------------------------\n",
      "--------------------------------------------------\n",
      "| Index      | Beta            | Optimal beta    |\n",
      "--------------------------------------------------\n",
      "| 29         | 2.99209         | 2.99209         |\n",
      "--------------------------------------------------\n",
      "| 24         | -1.9988         | -1.9988         |\n",
      "--------------------------------------------------\n",
      "| 23         | 3.99253         | 3.99253         |\n",
      "--------------------------------------------------\n",
      "| 53         | 2.98933         | 2.98933         |\n",
      "--------------------------------------------------\n",
      "| 46         | 4.98537         | 4.98537         |\n",
      "--------------------------------------------------\n"
     ]
    }
   ],
   "source": [
    "run_solver('Newton-CG', jac=ridge_reg_der, hess=ridge_reg_hess, options={'xtol': 1e-10})"
   ]
  },
  {
   "cell_type": "markdown",
   "id": "65ae4131-aeb7-4f46-a5a7-f966d405bede",
   "metadata": {},
   "source": [
    "### B.2. Nelder-Mead\n",
    "\n",
    "The gradient and hessian are not used."
   ]
  },
  {
   "cell_type": "code",
   "execution_count": 9,
   "id": "80b98d85-f5a2-4353-b9ed-df0803142c36",
   "metadata": {},
   "outputs": [
    {
     "name": "stdout",
     "output_type": "stream",
     "text": [
      "-------------------------------------------------------------------------------------------------------------------------------\n",
      "| Method          | Error      | Iterations | Function evaluations | Gradient evaluations | Hessian evaluations  | Time (sec) |\n",
      "-------------------------------------------------------------------------------------------------------------------------------\n",
      "| Nelder-Mead     | 1.27506    | 19324      | 20200                | Not used             | Not used             | 38.33262   |\n",
      "-------------------------------------------------------------------------------------------------------------------------------\n",
      "--------------------------------------------------\n",
      "| Index      | Beta            | Optimal beta    |\n",
      "--------------------------------------------------\n",
      "| 24         | 0.51097         | -1.9988         |\n",
      "--------------------------------------------------\n",
      "| 46         | 0.6452          | 4.98537         |\n",
      "--------------------------------------------------\n",
      "| 31         | 1.98414         | 3.9958          |\n",
      "--------------------------------------------------\n",
      "| 19         | -1.67058        | -0.99718        |\n",
      "--------------------------------------------------\n",
      "| 42         | -0.23087        | -5.02055        |\n",
      "--------------------------------------------------\n"
     ]
    }
   ],
   "source": [
    "run_solver('Nelder-Mead', options={'xtol': 1e-10})"
   ]
  },
  {
   "cell_type": "markdown",
   "id": "520aa21e-e77f-43e4-a4af-50b8a29fb9b9",
   "metadata": {},
   "source": [
    "### B.3. CG\n",
    "\n",
    "It is only used the gradient."
   ]
  },
  {
   "cell_type": "code",
   "execution_count": 10,
   "id": "a9447f55-b6b3-4a56-9595-6a41750fc841",
   "metadata": {},
   "outputs": [
    {
     "name": "stdout",
     "output_type": "stream",
     "text": [
      "-------------------------------------------------------------------------------------------------------------------------------\n",
      "| Method          | Error      | Iterations | Function evaluations | Gradient evaluations | Hessian evaluations  | Time (sec) |\n",
      "-------------------------------------------------------------------------------------------------------------------------------\n",
      "| CG              | 1e-05      | 219        | 554                  | 543                  | Not used             | 1.47735    |\n",
      "-------------------------------------------------------------------------------------------------------------------------------\n",
      "--------------------------------------------------\n",
      "| Index      | Beta            | Optimal beta    |\n",
      "--------------------------------------------------\n",
      "| 96         | 1.9994          | 1.9994          |\n",
      "--------------------------------------------------\n",
      "| 47         | -3.00586        | -3.00587        |\n",
      "--------------------------------------------------\n",
      "| 90         | -5.00043        | -5.00043        |\n",
      "--------------------------------------------------\n",
      "| 81         | -4.00837        | -4.00837        |\n",
      "--------------------------------------------------\n",
      "| 72         | 2.99095         | 2.99095         |\n",
      "--------------------------------------------------\n"
     ]
    }
   ],
   "source": [
    "run_solver('CG', jac=ridge_reg_der)"
   ]
  },
  {
   "cell_type": "markdown",
   "id": "0c693c68-8f07-46f5-8692-2aa4f09c690b",
   "metadata": {},
   "source": [
    "### B.4. BFGS\n",
    "\n",
    "Only employs the gradient."
   ]
  },
  {
   "cell_type": "code",
   "execution_count": 11,
   "id": "4e1b6ce5-38ab-4cf1-bc64-1a296a02ea01",
   "metadata": {},
   "outputs": [
    {
     "name": "stdout",
     "output_type": "stream",
     "text": [
      "-------------------------------------------------------------------------------------------------------------------------------\n",
      "| Method          | Error      | Iterations | Function evaluations | Gradient evaluations | Hessian evaluations  | Time (sec) |\n",
      "-------------------------------------------------------------------------------------------------------------------------------\n",
      "| BFGS            | 0.0        | 119        | 221                  | 221                  | Not used             | 0.99504    |\n",
      "-------------------------------------------------------------------------------------------------------------------------------\n",
      "--------------------------------------------------\n",
      "| Index      | Beta            | Optimal beta    |\n",
      "--------------------------------------------------\n",
      "| 11         | -0.02688        | -0.02688        |\n",
      "--------------------------------------------------\n",
      "| 14         | 0.99094         | 0.99094         |\n",
      "--------------------------------------------------\n",
      "| 53         | 2.98933         | 2.98933         |\n",
      "--------------------------------------------------\n",
      "| 26         | 3.02327         | 3.02327         |\n",
      "--------------------------------------------------\n",
      "| 38         | 2.9948          | 2.9948          |\n",
      "--------------------------------------------------\n"
     ]
    }
   ],
   "source": [
    "run_solver('BFGS', jac=ridge_reg_der)"
   ]
  },
  {
   "cell_type": "markdown",
   "id": "a11825dd-5805-4e11-898f-2980d92bbb1d",
   "metadata": {},
   "source": [
    "The results from the solvers can be easily printed with functon `show_solver_stats()`."
   ]
  },
  {
   "cell_type": "code",
   "execution_count": 12,
   "id": "4e828784-0663-4790-8e34-3e799583f39b",
   "metadata": {},
   "outputs": [
    {
     "name": "stdout",
     "output_type": "stream",
     "text": [
      "-------------------------------------------------------------------------------------------------------------------------------\n",
      "| Method          | Error      | Iterations | Function evaluations | Gradient evaluations | Hessian evaluations  | Time (sec) |\n",
      "-------------------------------------------------------------------------------------------------------------------------------\n",
      "| Newton-CG       | 0.0        | 22         | 25                   | 25                   | 22                   | 0.26807    |\n",
      "-------------------------------------------------------------------------------------------------------------------------------\n",
      "| Nelder-Mead     | 1.27506    | 19324      | 20200                | Not used             | Not used             | 38.33262   |\n",
      "-------------------------------------------------------------------------------------------------------------------------------\n",
      "| CG              | 1e-05      | 219        | 554                  | 543                  | Not used             | 1.47735    |\n",
      "-------------------------------------------------------------------------------------------------------------------------------\n",
      "| BFGS            | 0.0        | 119        | 221                  | 221                  | Not used             | 0.99504    |\n",
      "-------------------------------------------------------------------------------------------------------------------------------\n"
     ]
    }
   ],
   "source": [
    "show_solver_stats()"
   ]
  },
  {
   "cell_type": "markdown",
   "id": "b7f0d423-02f7-442d-bdd2-e3fd306e5434",
   "metadata": {},
   "source": [
    "The best method is **Newton-CG**, being the fastest and obtaining zero error. In addition, the number of function and gradient evaluations is much less than in **CG** and **BFGS**. The worse is **Nelder-Mead**, which is much slower than the rest and provides a larger error. Mention in this method the gradient and the hessian are not used, whereas in the best one both are employed. Consequently, it can be seen the benefitial effects in convergence if the gradient or the hessian are implemented."
   ]
  },
  {
   "cell_type": "markdown",
   "id": "ab66362d-4c3c-4ffb-89e4-4ce97426f061",
   "metadata": {},
   "source": [
    "## C. Algorithm implementations (I)\n",
    "\n",
    "Different iterative algorithms are implemented in this section. Next function is employed to print the results, it shows:\n",
    "\n",
    "* **Error**, compared with the values of beta obtained by the analytical solution.\n",
    "* Reached **tolerance**: calculated with the norm of the gradient.\n",
    "* Computational **time** in seconds.\n",
    "* Number of **iterations**.\n",
    "* **Time per iteration**, in seconds."
   ]
  },
  {
   "cell_type": "code",
   "execution_count": 13,
   "id": "20e67f83-a615-4e00-8f97-0909a9a4bedc",
   "metadata": {},
   "outputs": [],
   "source": [
    "alg_dic = {}\n",
    "\n",
    "def show_alg_stats(methods='all'):\n",
    "    '''Print results of each algorithm\n",
    "    \n",
    "    '''\n",
    "    print('-'*90)\n",
    "    print(f\"| {'Algorithm':<19} | {'Error':<10} | {'Tolerance':<12} | {'Iterations':<10} | {'Time (sec)':<10} | {'Sec/iter':<10} |\")\n",
    "    print('-'*90)\n",
    "    if methods == 'all':\n",
    "        methods = list(alg_dic.keys())\n",
    "    elif isinstance(methods, str):\n",
    "        methods = [methods]\n",
    "    for method in methods:\n",
    "        print(f\"| {method:<19} | {alg_dic[method]['err']:<10} | {alg_dic[method]['tol']:<12} | {alg_dic[method]['nit']:<10} | {alg_dic[method]['time']:<10} | {alg_dic[method]['sec']:<10} |\")\n",
    "        print('-'*90)"
   ]
  },
  {
   "cell_type": "markdown",
   "id": "788c7f8d-79ef-4022-8741-7e5d91eb31be",
   "metadata": {},
   "source": [
    "### C.1. Gradient method\n",
    "\n",
    "It is not the best method in terms of convergence, but its computational cost is not very high.\n",
    "\n",
    "* From an initial iterate $\\beta_0$\n",
    "\n",
    "* Compute search (descent) directions $p_k=-\\nabla f(\\beta_k)$\n",
    "\n",
    "* Compute a steplength $\\alpha_k>0$ using Armijo rule.\n",
    "\n",
    "* Movement: $\\beta_{k+1} = \\beta_k + \\alpha_k\\ p_k$\n",
    "\n",
    "Until convergence to a local solution. The limit is given by a total number of iteratons `n_iter` or if a tolerance limit `epsilon` is reached."
   ]
  },
  {
   "cell_type": "code",
   "execution_count": 14,
   "id": "ccdac15d-9185-4bec-9ecc-0a3a7e670232",
   "metadata": {},
   "outputs": [],
   "source": [
    "def gradient_method(n_iter=2000, epsilon=1e-4, sigma=1e-5, delta=0.01, alpha_init=1e-5, ks=5):\n",
    "    '''Implement Gradient method\n",
    "    \n",
    "    '''\n",
    "    # Init algorithm dic\n",
    "    alg = 'Gradient'\n",
    "    alg_dic[alg] = {}\n",
    "    \n",
    "    (a,b) = X.shape\n",
    "    \n",
    "    # Initial values for the variables and data containers\n",
    "    beta = np.zeros(b) \n",
    "    OF_iter = np.zeros(n_iter)\n",
    "    tol_iter = np.zeros(n_iter)\n",
    "    alpha_iter = np.zeros(n_iter)\n",
    "    \n",
    "    # Time start\n",
    "    time_start = time.process_time()\n",
    "    \n",
    "    # Newton method\n",
    "    i = 0\n",
    "    tol = 10000\n",
    "    # iteration lower than maximum number and tolerance filter\n",
    "    while (i <= n_iter-2) and (tol > epsilon):\n",
    "        i = i + 1\n",
    "        # compute gradient\n",
    "        grad = ridge_reg_der(beta,X,y)\n",
    "        # compute descent direction\n",
    "        ddirect = -grad \n",
    "        \n",
    "        # Armijo rule to adjust alph: now alpha is calculated with delta\n",
    "        alpha = alpha_init\n",
    "        while (ridge_reg(beta+alpha*ddirect,X,y) > ridge_reg(beta,X,y) + alpha*sigma*np.dot(ddirect,grad)):\n",
    "            alpha = alpha*delta\n",
    "        \n",
    "        # compute new point\n",
    "        beta = beta + alpha*ddirect\n",
    "    \n",
    "        # objective value per iteration\n",
    "        OF_iter[i] = ridge_reg(beta, X, y)\n",
    "        \n",
    "        # if the norm of the gradient is small, we can stop\n",
    "        tol = np.linalg.norm(grad,ord=2)\n",
    "        tol_iter[i] = tol\n",
    "        \n",
    "        # alpha iteration due to Armijo rule\n",
    "        alpha_iter[i] = alpha\n",
    "    \n",
    "        \n",
    "    # Measure elapsed time\n",
    "    time_elapsed = (time.process_time() - time_start)\n",
    "    \n",
    "    # The error compares the obtained solution to the optimal solution (analytical)\n",
    "    err = np.linalg.norm(np.transpose(beta_exact)-beta,ord=2)/np.linalg.norm(beta,ord=2)\n",
    "    \n",
    "    # Save stats\n",
    "    alg_dic[alg]['err'] = round(err, 5)               # error\n",
    "    alg_dic[alg]['nit'] = i                           # number of iterations\n",
    "    alg_dic[alg]['tol'] = round(tol, 9)               # reached tolerance\n",
    "    alg_dic[alg]['time'] = round(time_elapsed, 5)     # computational time\n",
    "    alg_dic[alg]['sec'] = round(time_elapsed/i, 5)    # seconds per iteration\n",
    "    \n",
    "    # Show stats\n",
    "    show_alg_stats(alg)\n",
    "    \n",
    "    # Show beta\n",
    "    if ks > 0:\n",
    "        print_beta(beta, ks)"
   ]
  },
  {
   "cell_type": "code",
   "execution_count": 15,
   "id": "a6abdeb8-e1ea-4554-8545-a49acac261f6",
   "metadata": {},
   "outputs": [
    {
     "name": "stdout",
     "output_type": "stream",
     "text": [
      "------------------------------------------------------------------------------------------\n",
      "| Algorithm           | Error      | Tolerance    | Iterations | Time (sec) | Sec/iter   |\n",
      "------------------------------------------------------------------------------------------\n",
      "| Gradient            | 0.09287    | 43.065986502 | 1999       | 10.77377   | 0.00539    |\n",
      "------------------------------------------------------------------------------------------\n",
      "--------------------------------------------------\n",
      "| Index      | Beta            | Optimal beta    |\n",
      "--------------------------------------------------\n",
      "| 41         | -5.02018        | -5.01597        |\n",
      "--------------------------------------------------\n",
      "| 27         | -3.02714        | -3.01823        |\n",
      "--------------------------------------------------\n",
      "| 44         | 3.98383         | 3.99035         |\n",
      "--------------------------------------------------\n",
      "| 59         | 5.00098         | 5.00409         |\n",
      "--------------------------------------------------\n",
      "| 14         | 0.98653         | 0.99094         |\n",
      "--------------------------------------------------\n"
     ]
    }
   ],
   "source": [
    "# Parameters for the algorithm\n",
    "n_iter = 2000      # maximum number of iterations\n",
    "epsilon = 1e-8     # tolerance limit\n",
    "sigma = 1e-5       # Armijo rule parameter\n",
    "delta = 1e-2       # Armijo rule parameter\n",
    "alpha_init = 1e-5  # initial alpha for Armijo rule\n",
    "\n",
    "# Run algorithm\n",
    "gradient_method(n_iter, epsilon, sigma, delta, alpha_init)"
   ]
  },
  {
   "cell_type": "markdown",
   "id": "71ce96e0-ab26-4475-915b-0e177b586c96",
   "metadata": {},
   "source": [
    "### C.2. Newton method\n",
    "\n",
    "Better convergence than gradient method, but its computational cost is very high.\n",
    "\n",
    "* From an initial iterate $\\beta_0$\n",
    "\n",
    "* Compute search (descent) directions $p_k=-(\\nabla^2 f(\\beta_k))^{-1} \\nabla f(\\beta_k)$, whenever $\\nabla^2 f(\\beta_k)$ is nonsingular. Computing Hessian.\n",
    "\n",
    "* Compute a steplength $\\alpha_k>0$ using Armijo rule.\n",
    "\n",
    "* Movement: $\\beta_{k+1} = \\beta_k + \\alpha_k\\ p_k$\n",
    "\n",
    "Until convergence to a local solution. The limit is given by a total number of iteratons `n_iter` or if a tolerance limit `epsilon` is reached."
   ]
  },
  {
   "cell_type": "code",
   "execution_count": 16,
   "id": "01074bf1-8002-4014-8d8d-ed8b80698740",
   "metadata": {},
   "outputs": [],
   "source": [
    "def newton_method(n_iter=1000, epsilon=1e-2, sigma=1e-8, delta=1e-8, alpha_init=0.01, ks=5):\n",
    "    '''Implement Newton method\n",
    "    \n",
    "    '''\n",
    "    # Init algorithm dic\n",
    "    alg = 'Newton'\n",
    "    alg_dic[alg] = {}\n",
    "\n",
    "    (a,b) = X.shape\n",
    "\n",
    "    # Initial values for the variables and data containers\n",
    "    beta = np.zeros(b)\n",
    "    OF_iter = np.zeros(n_iter)\n",
    "    tol_iter = np.zeros(n_iter)\n",
    "    alpha_iter = np.zeros(n_iter)\n",
    "    \n",
    "    # Time start\n",
    "    time_start = time.process_time()\n",
    "    \n",
    "    # Newton method\n",
    "    i = 0\n",
    "    tol = 10000\n",
    "    # iteration lower than maximum number and tolerance filter\n",
    "    while (i <= n_iter-2) and (tol > epsilon):\n",
    "        i = i + 1\n",
    "        # compute gradient\n",
    "        grad = ridge_reg_der(beta,X,y)\n",
    "        # compute hessian\n",
    "        hess = ridge_reg_hess(beta,X,y)\n",
    "        # compute descent direction\n",
    "        ddirect = -np.dot(np.linalg.inv(hess),grad)\n",
    "        \n",
    "        # Armijo rule to adjust alph: now alpha is calculated with delta\n",
    "        alpha = alpha_init\n",
    "        while (ridge_reg(beta+alpha*ddirect,X,y) > ridge_reg(beta,X,y) + alpha*sigma*np.dot(ddirect,grad)):\n",
    "            alpha = alpha*delta\n",
    "        \n",
    "        # compute new point\n",
    "        beta = beta + alpha*ddirect\n",
    "        \n",
    "        # objective value per iteration\n",
    "        OF_iter[i] = ridge_reg(beta, X, y)\n",
    "        \n",
    "        # if the norm of the gradient is small, we can stop\n",
    "        tol = np.linalg.norm(grad,ord=2)\n",
    "        tol_iter[i] = tol\n",
    "        \n",
    "        # alpha iteration due to Armijo rule\n",
    "        alpha_iter[i] = alpha\n",
    "    \n",
    "        \n",
    "    # Measure elapsed time\n",
    "    time_elapsed = (time.process_time() - time_start)\n",
    "    \n",
    "    # The error compares the obtained solution to the optimal solution (analytical)\n",
    "    err = np.linalg.norm(np.transpose(beta_exact)-beta,ord=2)/np.linalg.norm(beta,ord=2)\n",
    "    \n",
    "    # Save stats\n",
    "    alg_dic[alg]['err'] = round(err, 5)               # error\n",
    "    alg_dic[alg]['nit'] = i                           # number of iterations\n",
    "    alg_dic[alg]['tol'] = round(tol, 9)               # reached tolerance\n",
    "    alg_dic[alg]['time'] = round(time_elapsed, 5)     # computational time\n",
    "    alg_dic[alg]['sec'] = round(time_elapsed/i, 5)    # seconds per iteration\n",
    "    \n",
    "    # Show stats\n",
    "    show_alg_stats(alg)\n",
    "    \n",
    "    # Show beta\n",
    "    if ks > 0:\n",
    "        print_beta(beta, ks)"
   ]
  },
  {
   "cell_type": "code",
   "execution_count": 17,
   "id": "75bd5717-c208-481b-95f0-18e16b7f081d",
   "metadata": {},
   "outputs": [
    {
     "name": "stdout",
     "output_type": "stream",
     "text": [
      "------------------------------------------------------------------------------------------\n",
      "| Algorithm           | Error      | Tolerance    | Iterations | Time (sec) | Sec/iter   |\n",
      "------------------------------------------------------------------------------------------\n",
      "| Newton              | 0.0        | 2.813e-06    | 499        | 27.89775   | 0.05591    |\n",
      "------------------------------------------------------------------------------------------\n",
      "--------------------------------------------------\n",
      "| Index      | Beta            | Optimal beta    |\n",
      "--------------------------------------------------\n",
      "| 28         | 3.9929          | 3.9929          |\n",
      "--------------------------------------------------\n",
      "| 84         | 0.00643         | 0.00643         |\n",
      "--------------------------------------------------\n",
      "| 20         | 0.01171         | 0.01171         |\n",
      "--------------------------------------------------\n",
      "| 21         | 2.99243         | 2.99243         |\n",
      "--------------------------------------------------\n",
      "| 22         | -2.01631        | -2.01631        |\n",
      "--------------------------------------------------\n"
     ]
    }
   ],
   "source": [
    "# Parameters for the algorithm\n",
    "n_iter = 500       # maximum number of iterations\n",
    "epsilon = 1e-8     # tolerance limit\n",
    "sigma = 1e-3       # Armijo rule parameter\n",
    "delta = 5e-1       # Armijo rule parameter\n",
    "alpha_init = 1     # initial alpha for Armijo rule\n",
    "\n",
    "# Run algorithm\n",
    "newton_method(n_iter, epsilon, sigma, delta, alpha_init)"
   ]
  },
  {
   "cell_type": "markdown",
   "id": "4a21b4af-ca8b-4ed6-af8a-e73f64290997",
   "metadata": {},
   "source": [
    "### C.3. Quasi-Newton method\n",
    "\n",
    "The idea is having a smaller computational cost than Newton and better convergence than gradient. This method is equivalent to Newton, but the Hessian is approximated by another function instead of being exactly calculated, saving a lot of time. It starts with a $B_0$ which corresponds with the initial approximation to $\\nabla^2 f(\\beta^*)$ and then iterates:\n",
    "\n",
    "\\begin{align*}\n",
    "    B_{k+1} = B_k + \\text{update rule}\n",
    "\\end{align*}\n",
    "\n",
    "Different methods can be employed. The **BFGS** is used here:\n",
    "\n",
    "\n",
    "\\begin{align*}\n",
    "    B_{k+1} = B_k + \\frac{y_ky_k^T}{y_k^Ts_k} - \\frac{B_k s_k (B_k s_k)^T}{s_k^T B_k s_k}\n",
    "\\end{align*}\n",
    "\n",
    "The inverse can be analytically calculated with:\n",
    "\n",
    "\\begin{align*}\n",
    "    H_{k+1} = B_{k+1}^{-1} = \\bigg( I - \\frac{s_k y_k^T}{y_k^T s_k} \\bigg) H_k \\bigg( I - \\frac{y_k s_k^T}{y_k^T s_k} \\bigg) + \\frac{s_k s_k^T}{y_k^T s_k}\n",
    "\\end{align*}\n",
    "\n",
    "where $s_k = \\beta_{k+1} - \\beta_k$ and $y_k = \\nabla f(\\beta_{k+1}) - \\nabla f(\\beta_k)$"
   ]
  },
  {
   "cell_type": "code",
   "execution_count": 18,
   "id": "6497e210-9233-4d8f-8027-b80818f255ed",
   "metadata": {},
   "outputs": [],
   "source": [
    "def get_approx_inv_hess(inv_hess, points_diff, gradient_diff):\n",
    "    '''Calculate inverse approximation of the Hessian\n",
    "    \n",
    "    '''\n",
    "    sk = np.matrix(points_diff).T\n",
    "    yk = np.matrix(gradient_diff).T\n",
    "    I = np.identity(X.shape[1])\n",
    "    n1 = np.dot(sk, yk.T)\n",
    "    d1 = np.dot(yk.T, sk)[0, 0]\n",
    "    n2 = np.dot(yk, sk.T)\n",
    "    d2 = np.dot(yk.T, sk)[0, 0]\n",
    "    n3 = np.dot(sk, sk.T)\n",
    "    d3 = np.dot(yk.T, sk)[0, 0]\n",
    "    m1 = I - n1/d1\n",
    "    m2 = I - n2/d2\n",
    "    out = np.linalg.multi_dot([m1, inv_hess, m2]) + n3/d3\n",
    "    return np.squeeze(np.asarray(out))"
   ]
  },
  {
   "cell_type": "code",
   "execution_count": 19,
   "id": "73b5a72f-b7b7-496c-ad12-de074a768b9b",
   "metadata": {},
   "outputs": [],
   "source": [
    "def quasi_newton_method(n_iter=1000, epsilon=1e-2, sigma=1e-5, delta=0.001, alpha_init=0.001, ks=5):\n",
    "    '''Implement Quasi-Newton method\n",
    "    \n",
    "    '''\n",
    "    # Init algorithm dic\n",
    "    alg = 'Quasi-Newton'\n",
    "    alg_dic[alg] = {}\n",
    "\n",
    "    (a,b) = X.shape\n",
    "\n",
    "    # Initial values for the variables and data containers\n",
    "    beta = np.zeros(b)\n",
    "    OF_iter = np.zeros(n_iter)\n",
    "    tol_iter = np.zeros(n_iter)\n",
    "    alpha_iter = np.zeros(n_iter)\n",
    "    inv_hess = np.identity(b)\n",
    "    \n",
    "    # Time start\n",
    "    time_start = time.process_time()\n",
    "    \n",
    "    # Quasi-Newton method with BFGS update rule\n",
    "    i = 0\n",
    "    tol = 10000\n",
    "    # iteration lower than maximum number and tolerance filter\n",
    "    while (i <= n_iter-2) and (tol > epsilon):\n",
    "        i = i + 1\n",
    "        # compute gradient\n",
    "        grad = ridge_reg_der(beta, X, y)\n",
    "        \n",
    "        # compute approximation inverse of the hessian\n",
    "        if i > 1:\n",
    "            points_diff = beta - beta_old\n",
    "            gradient_diff = ridge_reg_der(beta, X, y) - ridge_reg_der(beta_old, X, y)\n",
    "            inv_hess = get_approx_inv_hess(inv_hess, points_diff, gradient_diff)\n",
    "            \n",
    "        # compute descent direction\n",
    "        ddirect = -np.dot(inv_hess, grad)\n",
    "        \n",
    "        # Armijo rule to adjust alph: now alpha is calculated with delta\n",
    "        alpha = alpha_init\n",
    "        while (ridge_reg(beta+alpha*ddirect,X,y) > ridge_reg(beta,X,y) + alpha*sigma*np.dot(ddirect,grad)):\n",
    "            alpha = alpha*delta\n",
    "        \n",
    "        # compute new point\n",
    "        beta_old = beta\n",
    "        beta = beta + alpha*ddirect\n",
    "        \n",
    "        # objective value per iteration\n",
    "        OF_iter[i] = ridge_reg(beta, X, y)\n",
    "        \n",
    "        # if the norm of the gradient is small, we can stop\n",
    "        tol = np.linalg.norm(grad,ord=2)\n",
    "        tol_iter[i] = tol\n",
    "        \n",
    "        # alpha iteration due to Armijo rule\n",
    "        alpha_iter[i] = alpha\n",
    "    \n",
    "        \n",
    "    # Measure elapsed time\n",
    "    time_elapsed = (time.process_time() - time_start)\n",
    "    \n",
    "    \n",
    "    # The error compares the obtained solution to the optimal solution (analytical)\n",
    "    err = np.linalg.norm(np.transpose(beta_exact)-beta,ord=2)/np.linalg.norm(beta,ord=2)\n",
    "    \n",
    "    # Save stats\n",
    "    alg_dic[alg]['err'] = round(err, 5)               # error\n",
    "    alg_dic[alg]['nit'] = i                           # number of iterations\n",
    "    alg_dic[alg]['tol'] = round(tol, 9)               # reached tolerance\n",
    "    alg_dic[alg]['time'] = round(time_elapsed, 5)     # computational time\n",
    "    alg_dic[alg]['sec'] = round(time_elapsed/i, 5)    # seconds per iteration\n",
    "    \n",
    "    # Show stats\n",
    "    show_alg_stats(alg)\n",
    "    \n",
    "    # Show beta\n",
    "    if ks > 0:\n",
    "        print_beta(beta, ks)"
   ]
  },
  {
   "cell_type": "code",
   "execution_count": 20,
   "id": "5a96bc69-a535-4a4e-9222-a1a30ad76eb5",
   "metadata": {},
   "outputs": [
    {
     "name": "stdout",
     "output_type": "stream",
     "text": [
      "------------------------------------------------------------------------------------------\n",
      "| Algorithm           | Error      | Tolerance    | Iterations | Time (sec) | Sec/iter   |\n",
      "------------------------------------------------------------------------------------------\n",
      "| Quasi-Newton        | 0.0        | 0.334951676  | 999        | 9.06882    | 0.00908    |\n",
      "------------------------------------------------------------------------------------------\n",
      "--------------------------------------------------\n",
      "| Index      | Beta            | Optimal beta    |\n",
      "--------------------------------------------------\n",
      "| 28         | 3.9929          | 3.9929          |\n",
      "--------------------------------------------------\n",
      "| 44         | 3.99035         | 3.99035         |\n",
      "--------------------------------------------------\n",
      "| 56         | -2.0103         | -2.0103         |\n",
      "--------------------------------------------------\n",
      "| 79         | -2.98967        | -2.98967        |\n",
      "--------------------------------------------------\n",
      "| 42         | -5.02055        | -5.02055        |\n",
      "--------------------------------------------------\n"
     ]
    }
   ],
   "source": [
    "# Parameters for the algorithm\n",
    "n_iter = 1000      # maximum number of iterations\n",
    "epsilon = 1e-8     # tolerance limit\n",
    "sigma = 1e-2       # Armijo rule parameter\n",
    "delta = 1e-8       # Armijo rule parameter\n",
    "alpha_init = 2e-2  # initial alpha for Armijo rule\n",
    "\n",
    "# Run algorithm\n",
    "quasi_newton_method(n_iter, epsilon, sigma, delta, alpha_init)"
   ]
  },
  {
   "cell_type": "markdown",
   "id": "8d75e29f-0d97-49db-bee5-a2adf51e843d",
   "metadata": {},
   "source": [
    "The results from the methods can be easily printed with functon `show_alg_stats()` and indicating the desired algorithms."
   ]
  },
  {
   "cell_type": "code",
   "execution_count": 21,
   "id": "e61c4aff-92bb-4ae9-a0a4-e32b170525d0",
   "metadata": {},
   "outputs": [
    {
     "name": "stdout",
     "output_type": "stream",
     "text": [
      "------------------------------------------------------------------------------------------\n",
      "| Algorithm           | Error      | Tolerance    | Iterations | Time (sec) | Sec/iter   |\n",
      "------------------------------------------------------------------------------------------\n",
      "| Gradient            | 0.09287    | 43.065986502 | 1999       | 10.77377   | 0.00539    |\n",
      "------------------------------------------------------------------------------------------\n",
      "| Newton              | 0.0        | 2.813e-06    | 499        | 27.89775   | 0.05591    |\n",
      "------------------------------------------------------------------------------------------\n",
      "| Quasi-Newton        | 0.0        | 0.334951676  | 999        | 9.06882    | 0.00908    |\n",
      "------------------------------------------------------------------------------------------\n"
     ]
    }
   ],
   "source": [
    "show_alg_stats(['Gradient', 'Newton', 'Quasi-Newton'])"
   ]
  },
  {
   "cell_type": "markdown",
   "id": "ef18163e-b72e-478d-b17e-54d219ca3f23",
   "metadata": {},
   "source": [
    "As it was expected, the fastest method is the **Gradient** taking into account the number of iterations. Different parameters have been tried in order to get a lower error, but it was not possible to reduce it. Incrementing the number of iterations was not decreasing the error and tolerance.\n",
    "\n",
    "The one with smallest error corresponds with **Newton**.  Mention it is so fast since in only a few iterarions is able to reach the global minimum, although in mean of seconds per iteration is the slowest, as expected.\n",
    "\n",
    "An intermmediate option is the **BFGS Quasi-Newton**. It converges better than the Gradient, but it needs more iterations than Newton. In velocity it is also between both previous options. Also in this case, with that small tolerance limit, was not possible to reduce it more incrementing the number of iterations."
   ]
  },
  {
   "cell_type": "markdown",
   "id": "119211de-c7f2-4054-8e21-04de5e9e616d",
   "metadata": {},
   "source": [
    "## D. Algorithm implementations (II)\n",
    "\n",
    "Following methods have as common the same goal, trying to reduce the computational time. In these problem there could be millions of samples ($n$) with a large number of variables $(k)$, so previous algorithms could take long time to finish. For this reason, next approaches reduce these periods simplifying or approximating certain calculations of the original Gradient method.\n",
    "\n",
    "It is important to mention that now the tolerance is calculated in another way. Instead of using the squared norm of the gradient, it is compared the difference between the objective function to minimize. If this value is smaller than the tolerance limit, the algorithm stops."
   ]
  },
  {
   "cell_type": "markdown",
   "id": "919adb30-7794-4a82-a49c-ccf8de2e1c2c",
   "metadata": {},
   "source": [
    "### D.1. Coordinate gradient method\n",
    "\n",
    "It follows the same steps than the Gradient method, the only difference is in the gradient calculation. In each iteration, it is optimized **only one component** of the fitted regression coefficients:\n",
    "\n",
    "$$\n",
    "\\beta_{t+1} = \\beta_t - \\alpha \\dfrac{\\partial f}{\\partial \\beta_{j_t}}(\\left.\\beta^{*}\\right) e_{j_t}\n",
    "$$\n",
    "\n",
    "where $e_{j_t}$ corresponds with the unit vector and the component $j_t$ is usually chosen randomly. If the gradient of the function is:\n",
    "\n",
    "\\begin{align*}\n",
    "    \\nabla f(\\left.\\beta^{*} \\right) = -2(y - X\\beta)^T X + 2\\rho \\beta^T\n",
    "\\end{align*}\n",
    "\n",
    "Each partial derivative is defined as:\n",
    "\n",
    "\\begin{align*}\n",
    "     \\dfrac{\\partial f}{\\partial \\beta_j}(\\left.\\beta^{*}\\right) = \\sum_{i=1}^n 2(y_i - (\\beta_0 + \\beta_1 x_{1i} + \\dots + \\beta_k x_{ki} + \\dots + \\beta_j x_{ji})) (-x_{ji}) + 2 \\rho \\beta_j\n",
    "\\end{align*}\n",
    "\n",
    "This expression can be formulated in vector format:\n",
    "\n",
    "\\begin{align*}\n",
    "     \\dfrac{\\partial f}{\\partial \\beta_j}(\\left.\\beta^{*}\\right) = -2 (y - X \\beta)^T X_j + 2 \\rho \\beta_j\n",
    "\\end{align*}\n",
    "\n",
    "where $X_j$ is the column $j$ of the matrix $X$. At the end, the gradient is going to be a vector with all zeroes excluding the chosen component in the iteration, which has the partial derivative:\n",
    "\n",
    "\\begin{align*}\n",
    "    \\nabla_t f(\\left.\\beta^{*} \\right) = \\begin{bmatrix} 0 \\\\ \\dots \\\\ \\dfrac{\\partial f}{\\partial \\beta_{j_t}}(\\left.\\beta^{*}\\right) \\\\ 0\\end{bmatrix}\n",
    "\\end{align*}"
   ]
  },
  {
   "cell_type": "code",
   "execution_count": 22,
   "id": "02d0f387-ad0d-480a-9ab4-da84152962ca",
   "metadata": {},
   "outputs": [],
   "source": [
    "# Coordinate gradient\n",
    "def ridge_reg_coor_der(beta_r, X, y, j):\n",
    "    '''Calculate coordinate gradient\n",
    "    \n",
    "    '''\n",
    "    bj = beta_r[j]\n",
    "    beta_r = np.matrix(beta_r).T\n",
    "    Xj = np.matrix(X[:, j]).T\n",
    "    grad = np.zeros(X.shape[1])\n",
    "    grad[j] = -2*np.dot((y - X*beta_r).T, Xj) + 2*rho*bj\n",
    "    return grad"
   ]
  },
  {
   "cell_type": "code",
   "execution_count": 23,
   "id": "380794f4-6a34-448a-9238-0765632f12aa",
   "metadata": {},
   "outputs": [],
   "source": [
    "def coordinate_gradient_method(n_iter=2000, epsilon=1e-4, sigma=1e-5, delta=0.01, alpha_init=1e-5, ks=5):\n",
    "    '''Implement Coordinate gradient method\n",
    "    \n",
    "    '''\n",
    "    # Init algorithm dic\n",
    "    alg = 'Coordinate'\n",
    "    alg_dic[alg] = {}\n",
    "    \n",
    "    (a,b) = X.shape\n",
    "    \n",
    "    # Initial values for the variables and data containers\n",
    "    beta = np.zeros(b)\n",
    "    OF_iter = np.zeros(n_iter)\n",
    "    tol_iter = np.zeros(n_iter)\n",
    "    alpha_iter = np.zeros(n_iter)\n",
    "    \n",
    "    # Time start\n",
    "    time_start = time.process_time()\n",
    "    \n",
    "    # Coordinate method\n",
    "    i = 0\n",
    "    tol = 10000\n",
    "    # iteration lower than maximum number and tolerance filter\n",
    "    while (i <= n_iter-2) and (tol > epsilon):\n",
    "        i = i + 1\n",
    "        # compute gradient\n",
    "        grad = ridge_reg_coor_der(beta, X, y, np.random.randint(0, nvars))\n",
    "        # compute descent direction\n",
    "        ddirect = -grad \n",
    "        \n",
    "        # Armijo rule to adjust alph: now alpha is calculated with delta\n",
    "        alpha = alpha_init\n",
    "        while (ridge_reg(beta+alpha*ddirect,X,y) > ridge_reg(beta,X,y) + alpha*sigma*np.dot(ddirect,grad)):\n",
    "            alpha = alpha*delta\n",
    "        \n",
    "        # compute new point\n",
    "        beta_old = beta\n",
    "        beta = beta + alpha*ddirect\n",
    "    \n",
    "        # objective value per iteration\n",
    "        OF_iter[i] = ridge_reg(beta, X, y)\n",
    "        \n",
    "        # Tolerance calculation\n",
    "        tol = np.absolute(OF_iter[i] - OF_iter[i-1])\n",
    "        tol_iter[i] = tol\n",
    "        \n",
    "        # alpha iteration due to Armijo rule\n",
    "        alpha_iter[i] = alpha\n",
    "    \n",
    "        \n",
    "    # Measure elapsed time\n",
    "    time_elapsed = (time.process_time() - time_start)\n",
    "    \n",
    "    # The error compares the obtained solution to the optimal solution (analytical)\n",
    "    err = np.linalg.norm(np.transpose(beta_exact)-beta,ord=2)/np.linalg.norm(beta,ord=2)\n",
    "    \n",
    "    # Save stats\n",
    "    alg_dic[alg]['err'] = round(err, 5)               # error\n",
    "    alg_dic[alg]['nit'] = i                           # number of iterations\n",
    "    alg_dic[alg]['tol'] = round(tol, 9)               # reached tolerance\n",
    "    alg_dic[alg]['time'] = round(time_elapsed, 5)     # computational time\n",
    "    alg_dic[alg]['sec'] = round(time_elapsed/i, 5)    # seconds per iteration\n",
    "    \n",
    "    # Show stats\n",
    "    show_alg_stats(alg)\n",
    "    \n",
    "    # Show beta\n",
    "    if ks > 0:\n",
    "        print_beta(beta, ks)"
   ]
  },
  {
   "cell_type": "code",
   "execution_count": 24,
   "id": "29c95ec3-8371-445b-9715-0c5c521fbd42",
   "metadata": {},
   "outputs": [
    {
     "name": "stdout",
     "output_type": "stream",
     "text": [
      "------------------------------------------------------------------------------------------\n",
      "| Algorithm           | Error      | Tolerance    | Iterations | Time (sec) | Sec/iter   |\n",
      "------------------------------------------------------------------------------------------\n",
      "| Coordinate          | 0.09603    | 7e-09        | 7341       | 27.42444   | 0.00374    |\n",
      "------------------------------------------------------------------------------------------\n",
      "--------------------------------------------------\n",
      "| Index      | Beta            | Optimal beta    |\n",
      "--------------------------------------------------\n",
      "| 70         | 2.96238         | 2.98507         |\n",
      "--------------------------------------------------\n",
      "| 87         | 0.0121          | 0.00169         |\n",
      "--------------------------------------------------\n",
      "| 31         | 4.00141         | 3.9958          |\n",
      "--------------------------------------------------\n",
      "| 29         | 2.98854         | 2.99209         |\n",
      "--------------------------------------------------\n",
      "| 32         | 1.98996         | 1.99881         |\n",
      "--------------------------------------------------\n"
     ]
    }
   ],
   "source": [
    "# Parameters for the algorithm\n",
    "n_iter = 10000\n",
    "epsilon = 1e-8\n",
    "sigma = 1e-1\n",
    "delta = 1e-1\n",
    "alpha_init = 1e-5\n",
    "\n",
    "# Run algorithm\n",
    "coordinate_gradient_method(n_iter, epsilon, sigma, delta, alpha_init)"
   ]
  },
  {
   "cell_type": "markdown",
   "id": "90b690db-741e-4e32-a4bc-0f78f6e92961",
   "metadata": {},
   "source": [
    "### D.2. Mini-batch gradient method\n",
    "\n",
    "The procedure is the same than gradient method, but in this case the gradient is calculated using a **subset** of samples instead of the whole data:\n",
    "\n",
    "\\begin{align*}\n",
    "    \\nabla f(\\left.\\beta^{*} \\right) = -2(y_b - X_b\\beta)^T X_b + 2\\rho \\beta^T\n",
    "\\end{align*}\n",
    "\n",
    "where $X_b$ and $y_b$ correspond with the sampled $X$ and $y$ variables respectively. The number of samples or batch size $b$ is fixed during the process, and the samples are randomly selected in each iteration."
   ]
  },
  {
   "cell_type": "code",
   "execution_count": 25,
   "id": "ec22bcb4-6d0a-4c08-b40e-604cd7654e4d",
   "metadata": {},
   "outputs": [],
   "source": [
    "# Function to select random samples\n",
    "def sample_data(batch):\n",
    "    '''Select random samples given a batch\n",
    "    \n",
    "    Args:\n",
    "        batch (int): number of samples to take\n",
    "        \n",
    "    '''\n",
    "    idx = random.sample(range(nsample), batch)\n",
    "    return X[idx, :], y[idx]"
   ]
  },
  {
   "cell_type": "code",
   "execution_count": 26,
   "id": "bdaa81af-7de4-43a0-a292-cc3eb393efd0",
   "metadata": {},
   "outputs": [],
   "source": [
    "def mini_batch_gradient_method(batch=50, n_iter=2000, epsilon=1e-4, sigma=1e-5, delta=0.01, alpha_init=1e-5, ks = 5):\n",
    "    '''Implement Mini-batch gradient method\n",
    "    \n",
    "    '''\n",
    "    # Init algorithm dic\n",
    "    alg = 'Mini-batch'\n",
    "    alg_dic[alg] = {}\n",
    "    \n",
    "    (a,b) = X.shape\n",
    "    \n",
    "    # Initial values for the variables and data containers\n",
    "    beta = np.zeros(b) \n",
    "    OF_iter = np.zeros(n_iter)\n",
    "    tol_iter = np.zeros(n_iter)\n",
    "    alpha_iter = np.zeros(n_iter)\n",
    "    \n",
    "    # Time start\n",
    "    time_start = time.process_time()\n",
    "    \n",
    "    # Mini batch method\n",
    "    i = 0\n",
    "    tol = 10000\n",
    "    # iteration lower than maximum number and tolerance filter\n",
    "    while (i <= n_iter-2) and (tol > epsilon):\n",
    "        i = i + 1\n",
    "        \n",
    "        # get subsample data\n",
    "        X_b, y_b = sample_data(batch)\n",
    "        \n",
    "        # compute gradient\n",
    "        grad = ridge_reg_der(beta, X_b, y_b)\n",
    "        # compute descent direction\n",
    "        ddirect = -grad\n",
    "        \n",
    "        # Armijo rule to adjust alph: now alpha is calculated with delta\n",
    "        alpha = alpha_init\n",
    "        while (ridge_reg(beta+alpha*ddirect,X,y) > ridge_reg(beta,X,y) + alpha*sigma*np.dot(ddirect,grad)):\n",
    "            alpha = alpha*delta\n",
    "        \n",
    "        # compute new point\n",
    "        beta_old = beta\n",
    "        beta = beta + alpha*ddirect\n",
    "    \n",
    "        # objective value per iteration\n",
    "        OF_iter[i] = ridge_reg(beta, X, y)\n",
    "        \n",
    "        # Tolerance calculation\n",
    "        tol = np.absolute(OF_iter[i] - OF_iter[i-1])\n",
    "        tol_iter[i] = tol\n",
    "        \n",
    "        # alpha iteration due to Armijo rule\n",
    "        alpha_iter[i] = alpha\n",
    "    \n",
    "        \n",
    "    # Measure elapsed time\n",
    "    time_elapsed = (time.process_time() - time_start)\n",
    "    \n",
    "    # The error compares the obtained solution to the optimal solution (analytical)\n",
    "    err = np.linalg.norm(np.transpose(beta_exact)-beta,ord=2)/np.linalg.norm(beta,ord=2)\n",
    "    \n",
    "    # Save stats\n",
    "    alg_dic[alg]['err'] = round(err, 5)               # error\n",
    "    alg_dic[alg]['nit'] = i                           # number of iterations\n",
    "    alg_dic[alg]['tol'] = round(tol, 9)               # reached tolerance\n",
    "    alg_dic[alg]['time'] = round(time_elapsed, 5)     # computational time\n",
    "    alg_dic[alg]['sec'] = round(time_elapsed/i, 5)    # seconds per iteration\n",
    "    \n",
    "    # Show stats\n",
    "    show_alg_stats(alg)\n",
    "    \n",
    "    # Show beta\n",
    "    if ks > 0:\n",
    "        print_beta(beta, ks)\n",
    "        \n",
    "    return err, i, time_elapsed"
   ]
  },
  {
   "cell_type": "markdown",
   "id": "4c562f7e-40da-4dd8-8b8a-1f090294f7af",
   "metadata": {},
   "source": [
    "In next cell it is employed the whole data as batch, in order to see if the algorithm is working."
   ]
  },
  {
   "cell_type": "code",
   "execution_count": 27,
   "id": "5ab1415c-cc5d-4f98-8c4e-b76da171192b",
   "metadata": {},
   "outputs": [
    {
     "name": "stdout",
     "output_type": "stream",
     "text": [
      "------------------------------------------------------------------------------------------\n",
      "| Algorithm           | Error      | Tolerance    | Iterations | Time (sec) | Sec/iter   |\n",
      "------------------------------------------------------------------------------------------\n",
      "| Mini-batch          | 0.0943     | 0.000348951  | 2999       | 78.11931   | 0.02605    |\n",
      "------------------------------------------------------------------------------------------\n",
      "--------------------------------------------------\n",
      "| Index      | Beta            | Optimal beta    |\n",
      "--------------------------------------------------\n",
      "| 30         | 2.99925         | 3.00752         |\n",
      "--------------------------------------------------\n",
      "| 82         | -1.01896        | -1.01327        |\n",
      "--------------------------------------------------\n",
      "| 88         | -3.02691        | -3.02075        |\n",
      "--------------------------------------------------\n",
      "| 45         | -1.01399        | -1.00733        |\n",
      "--------------------------------------------------\n",
      "| 10         | 3.00249         | 3.00503         |\n",
      "--------------------------------------------------\n"
     ]
    }
   ],
   "source": [
    "# Parameters for the algorithm\n",
    "batch = nsample\n",
    "n_iter = 3000\n",
    "epsilon = 1e-8\n",
    "sigma = 1e-1\n",
    "delta = 1e-1\n",
    "alpha_init = 1e-5\n",
    "\n",
    "# Run algorithm\n",
    "err, ite, tim = mini_batch_gradient_method(batch, n_iter, epsilon, sigma, delta, alpha_init)"
   ]
  },
  {
   "cell_type": "markdown",
   "id": "e8b51cd2-1ff1-468d-9d65-3348efbb1381",
   "metadata": {},
   "source": [
    "Now, different batches are applied."
   ]
  },
  {
   "cell_type": "code",
   "execution_count": 28,
   "id": "eb510920-aa0b-4507-aefe-064c49c963c7",
   "metadata": {},
   "outputs": [
    {
     "name": "stdout",
     "output_type": "stream",
     "text": [
      "batch = 1\n",
      "------------------------------------------------------------------------------------------\n",
      "| Algorithm           | Error      | Tolerance    | Iterations | Time (sec) | Sec/iter   |\n",
      "------------------------------------------------------------------------------------------\n",
      "| Mini-batch          | 10.96051   | 0.0          | 20         | 0.14693    | 0.00735    |\n",
      "------------------------------------------------------------------------------------------\n",
      "batch = 100\n",
      "------------------------------------------------------------------------------------------\n",
      "| Algorithm           | Error      | Tolerance    | Iterations | Time (sec) | Sec/iter   |\n",
      "------------------------------------------------------------------------------------------\n",
      "| Mini-batch          | 4.92891    | 1e-09        | 19         | 0.20703    | 0.0109     |\n",
      "------------------------------------------------------------------------------------------\n",
      "batch = 200\n",
      "------------------------------------------------------------------------------------------\n",
      "| Algorithm           | Error      | Tolerance    | Iterations | Time (sec) | Sec/iter   |\n",
      "------------------------------------------------------------------------------------------\n",
      "| Mini-batch          | 0.38626    | 0.0          | 133        | 1.48199    | 0.01114    |\n",
      "------------------------------------------------------------------------------------------\n",
      "batch = 300\n",
      "------------------------------------------------------------------------------------------\n",
      "| Algorithm           | Error      | Tolerance    | Iterations | Time (sec) | Sec/iter   |\n",
      "------------------------------------------------------------------------------------------\n",
      "| Mini-batch          | 0.28516    | 0.0          | 163        | 2.00471    | 0.0123     |\n",
      "------------------------------------------------------------------------------------------\n",
      "batch = 400\n",
      "------------------------------------------------------------------------------------------\n",
      "| Algorithm           | Error      | Tolerance    | Iterations | Time (sec) | Sec/iter   |\n",
      "------------------------------------------------------------------------------------------\n",
      "| Mini-batch          | 0.09746    | 0.0          | 488        | 7.14576    | 0.01464    |\n",
      "------------------------------------------------------------------------------------------\n",
      "batch = 500\n",
      "------------------------------------------------------------------------------------------\n",
      "| Algorithm           | Error      | Tolerance    | Iterations | Time (sec) | Sec/iter   |\n",
      "------------------------------------------------------------------------------------------\n",
      "| Mini-batch          | 0.09639    | 0.0          | 565        | 9.02176    | 0.01597    |\n",
      "------------------------------------------------------------------------------------------\n",
      "batch = 600\n",
      "------------------------------------------------------------------------------------------\n",
      "| Algorithm           | Error      | Tolerance    | Iterations | Time (sec) | Sec/iter   |\n",
      "------------------------------------------------------------------------------------------\n",
      "| Mini-batch          | 0.09643    | 0.0          | 556        | 10.40822   | 0.01872    |\n",
      "------------------------------------------------------------------------------------------\n",
      "batch = 700\n",
      "------------------------------------------------------------------------------------------\n",
      "| Algorithm           | Error      | Tolerance    | Iterations | Time (sec) | Sec/iter   |\n",
      "------------------------------------------------------------------------------------------\n",
      "| Mini-batch          | 0.09582    | 0.0          | 547        | 10.6758    | 0.01952    |\n",
      "------------------------------------------------------------------------------------------\n",
      "batch = 800\n",
      "------------------------------------------------------------------------------------------\n",
      "| Algorithm           | Error      | Tolerance    | Iterations | Time (sec) | Sec/iter   |\n",
      "------------------------------------------------------------------------------------------\n",
      "| Mini-batch          | 0.09507    | 0.0          | 583        | 17.54763   | 0.0301     |\n",
      "------------------------------------------------------------------------------------------\n",
      "batch = 900\n",
      "------------------------------------------------------------------------------------------\n",
      "| Algorithm           | Error      | Tolerance    | Iterations | Time (sec) | Sec/iter   |\n",
      "------------------------------------------------------------------------------------------\n",
      "| Mini-batch          | 0.09496    | 0.0          | 621        | 17.93729   | 0.02888    |\n",
      "------------------------------------------------------------------------------------------\n",
      "batch = 1000\n",
      "------------------------------------------------------------------------------------------\n",
      "| Algorithm           | Error      | Tolerance    | Iterations | Time (sec) | Sec/iter   |\n",
      "------------------------------------------------------------------------------------------\n",
      "| Mini-batch          | 0.0943     | 0.000348951  | 2999       | 77.22793   | 0.02575    |\n",
      "------------------------------------------------------------------------------------------\n"
     ]
    }
   ],
   "source": [
    "batches = np.array([1])\n",
    "batches = np.append(batches, np.arange(1, 11, 1)*100)\n",
    "errors = []\n",
    "iters = []\n",
    "times = []\n",
    "\n",
    "for batch in batches:\n",
    "    print(f'batch = {batch}')\n",
    "    err, ite, tim = mini_batch_gradient_method(batch, n_iter, epsilon, sigma, delta, alpha_init, ks=0)\n",
    "    errors = np.append(errors, err)\n",
    "    iters = np.append(iters, ite)\n",
    "    times = np.append(times, tim)"
   ]
  },
  {
   "cell_type": "markdown",
   "id": "a24ae812-4a06-4908-b0af-de13c6459d94",
   "metadata": {},
   "source": [
    "In next cell it is shown how the number of iterations increases exponentially if the batch size is larger."
   ]
  },
  {
   "cell_type": "code",
   "execution_count": 29,
   "id": "bb2c168c-a69b-4840-a4d2-86bb34277c1d",
   "metadata": {},
   "outputs": [
    {
     "data": {
      "text/plain": [
       "[<matplotlib.lines.Line2D at 0x7fe2cc27c220>]"
      ]
     },
     "execution_count": 29,
     "metadata": {},
     "output_type": "execute_result"
    },
    {
     "data": {
      "image/png": "[encoded data removed]",
      "text/plain": [
       "<Figure size 576x432 with 1 Axes>"
      ]
     },
     "metadata": {},
     "output_type": "display_data"
    }
   ],
   "source": [
    "plt.figure(figsize=(8, 6))\n",
    "plt.xlabel('Batches')\n",
    "plt.ylabel('Iterations')\n",
    "plt.plot(batches, iters)"
   ]
  },
  {
   "cell_type": "markdown",
   "id": "d024065e-8c4a-4526-bff7-44a42f7cab9f",
   "metadata": {},
   "source": [
    "Same issue happens with the computational time, as $b$ increases the spent time is larger."
   ]
  },
  {
   "cell_type": "code",
   "execution_count": 30,
   "id": "80d50989-80c6-4f9d-ae1a-b1cd31d6be97",
   "metadata": {},
   "outputs": [
    {
     "data": {
      "text/plain": [
       "[<matplotlib.lines.Line2D at 0x7fe2cc1e69a0>]"
      ]
     },
     "execution_count": 30,
     "metadata": {},
     "output_type": "execute_result"
    },
    {
     "data": {
      "image/png": "[encoded data removed]",
      "text/plain": [
       "<Figure size 576x432 with 1 Axes>"
      ]
     },
     "metadata": {},
     "output_type": "display_data"
    }
   ],
   "source": [
    "plt.figure(figsize=(8, 6))\n",
    "plt.xlabel('Batches')\n",
    "plt.ylabel('Computational time')\n",
    "plt.plot(batches, times)"
   ]
  },
  {
   "cell_type": "markdown",
   "id": "95473bd1-ba5e-4edf-a2c6-5bccccca6043",
   "metadata": {},
   "source": [
    "But if the error evolution is studied, it can be seen that this one is also decreased exponentially if a larger batch is used."
   ]
  },
  {
   "cell_type": "code",
   "execution_count": 31,
   "id": "0df3b430-3178-4761-9758-202cfbb50edd",
   "metadata": {},
   "outputs": [
    {
     "data": {
      "text/plain": [
       "[<matplotlib.lines.Line2D at 0x7fe2cc15da90>]"
      ]
     },
     "execution_count": 31,
     "metadata": {},
     "output_type": "execute_result"
    },
    {
     "data": {
      "image/png": "[encoded data removed]",
      "text/plain": [
       "<Figure size 576x432 with 1 Axes>"
      ]
     },
     "metadata": {},
     "output_type": "display_data"
    }
   ],
   "source": [
    "plt.figure(figsize=(8, 6))\n",
    "plt.xlabel('Batches')\n",
    "plt.ylabel('Error estimating beta')\n",
    "plt.plot(batches, errors)"
   ]
  },
  {
   "cell_type": "markdown",
   "id": "7c60ed5c-cc9c-484b-b8fa-10b20b0373a1",
   "metadata": {},
   "source": [
    "For these reason, it is advisable to find the balance according to the problem. In this case, as it is shown in the last picture and in the previous running results, a batch size of **400** performs very well in terms of error and computational time."
   ]
  },
  {
   "cell_type": "code",
   "execution_count": 32,
   "id": "80c5af98-ba77-4552-b8a6-a52b9d4981d6",
   "metadata": {},
   "outputs": [
    {
     "name": "stdout",
     "output_type": "stream",
     "text": [
      "------------------------------------------------------------------------------------------\n",
      "| Algorithm           | Error      | Tolerance    | Iterations | Time (sec) | Sec/iter   |\n",
      "------------------------------------------------------------------------------------------\n",
      "| Mini-batch          | 0.10513    | 0.0          | 421        | 6.31816    | 0.01501    |\n",
      "------------------------------------------------------------------------------------------\n"
     ]
    }
   ],
   "source": [
    "err = mini_batch_gradient_method(400, n_iter, epsilon, sigma, delta, alpha_init, ks=0)"
   ]
  },
  {
   "cell_type": "markdown",
   "id": "51571ec9-0d28-43ea-9b4d-f3489539377d",
   "metadata": {},
   "source": [
    "### D.3. Mini-batch gradient with momentum\n",
    "\n",
    "It is the same algorithm than Mini-batch with an additional term in the computation of the regression coefficients. In each iteration is added a term called **momentum** which helps to reach faster the solution:\n",
    "\n",
    "$$\n",
    "\\beta_{t+1} = \\beta_t - \\alpha \\nabla f(\\left.\\beta^{*} \\right) + \\underbrace{\\lambda (\\beta_t - \\beta_{t-1})}_\\text{momentum}\n",
    "$$"
   ]
  },
  {
   "cell_type": "code",
   "execution_count": 33,
   "id": "bb78299c-8cfc-4e32-b177-b2be84f47f29",
   "metadata": {},
   "outputs": [],
   "source": [
    "def mini_batch_momentum_gradient_method(batch=50, momentum=0.5, n_iter=2000, epsilon=1e-4, sigma=1e-5, delta=0.01, alpha_init=1e-5, ks = 5):\n",
    "    '''Implement Mini-batch gradient method with momentum\n",
    "    \n",
    "    '''\n",
    "    # Init algorithm dic\n",
    "    alg = 'Mini-batch momentum'\n",
    "    alg_dic[alg] = {}\n",
    "    \n",
    "    (a,b) = X.shape\n",
    "    \n",
    "    # Initial values for the variables and data containers\n",
    "    beta = np.zeros(b) \n",
    "    OF_iter = np.zeros(n_iter)\n",
    "    tol_iter = np.zeros(n_iter)\n",
    "    alpha_iter = np.zeros(n_iter)\n",
    "    \n",
    "    # Time start\n",
    "    time_start = time.process_time()\n",
    "    \n",
    "    # Mini batch with momentum method\n",
    "    i = 0\n",
    "    tol = 10000\n",
    "    # iteration lower than maximum number and tolerance filter\n",
    "    while (i <= n_iter-2) and (tol > epsilon):\n",
    "        i = i + 1\n",
    "        \n",
    "        # get subsample data\n",
    "        X_b, y_b = sample_data(batch)\n",
    "        \n",
    "        # compute gradient\n",
    "        grad = ridge_reg_der(beta, X_b, y_b)\n",
    "        # compute descent direction\n",
    "        ddirect = -grad \n",
    "        \n",
    "        # Armijo rule to adjust alph: now alpha is calculated with delta\n",
    "        alpha = alpha_init\n",
    "        while (ridge_reg(beta+alpha*ddirect,X,y) > ridge_reg(beta,X,y) + alpha*sigma*np.dot(ddirect,grad)):\n",
    "            alpha = alpha*delta\n",
    "        \n",
    "        # compute new point\n",
    "        beta_old = beta\n",
    "        beta = beta + alpha*ddirect + momentum*(beta - beta_old)\n",
    "    \n",
    "        # objective value per iteration\n",
    "        OF_iter[i] = ridge_reg(beta, X, y)\n",
    "        \n",
    "        # if the norm of the gradient is small, we can stop\n",
    "        tol = np.absolute(OF_iter[i] - OF_iter[i-1])\n",
    "        tol_iter[i] = tol\n",
    "        \n",
    "        # alpha iteration due to Armijo rule\n",
    "        alpha_iter[i] = alpha\n",
    "    \n",
    "        \n",
    "    # Measure elapsed time\n",
    "    time_elapsed = (time.process_time() - time_start)\n",
    "    \n",
    "    # The error compares the obtained solution to the optimal solution (analytical)\n",
    "    err = np.linalg.norm(np.transpose(beta_exact)-beta,ord=2)/np.linalg.norm(beta,ord=2)\n",
    "    \n",
    "    # Save stats\n",
    "    alg_dic[alg]['err'] = round(err, 5)               # error\n",
    "    alg_dic[alg]['nit'] = i                           # number of iterations\n",
    "    alg_dic[alg]['tol'] = round(tol, 9)               # reached tolerance\n",
    "    alg_dic[alg]['time'] = round(time_elapsed, 5)     # computational time\n",
    "    alg_dic[alg]['sec'] = round(time_elapsed/i, 5)    # seconds per iteration\n",
    "    \n",
    "    # Show stats\n",
    "    show_alg_stats(alg)\n",
    "    \n",
    "    # Show beta\n",
    "    if ks > 0:\n",
    "        print_beta(beta, ks)"
   ]
  },
  {
   "cell_type": "markdown",
   "id": "dee52ad8-6542-410c-8afb-7f8f5a110341",
   "metadata": {},
   "source": [
    "As it has been explained before, a batch of **400** performs well, so this is the value used in this section."
   ]
  },
  {
   "cell_type": "code",
   "execution_count": 34,
   "id": "bb951765-8cc8-4b51-80b4-60235e3943cd",
   "metadata": {},
   "outputs": [
    {
     "name": "stdout",
     "output_type": "stream",
     "text": [
      "------------------------------------------------------------------------------------------\n",
      "| Algorithm           | Error      | Tolerance    | Iterations | Time (sec) | Sec/iter   |\n",
      "------------------------------------------------------------------------------------------\n",
      "| Mini-batch momentum | 0.10269    | 0.0          | 381        | 6.0768     | 0.01595    |\n",
      "------------------------------------------------------------------------------------------\n",
      "--------------------------------------------------\n",
      "| Index      | Beta            | Optimal beta    |\n",
      "--------------------------------------------------\n",
      "| 10         | 2.90908         | 3.00503         |\n",
      "--------------------------------------------------\n",
      "| 4          | 0.1073          | -0.01799        |\n",
      "--------------------------------------------------\n",
      "| 82         | -1.07782        | -1.01327        |\n",
      "--------------------------------------------------\n",
      "| 6          | 1.86872         | 1.99519         |\n",
      "--------------------------------------------------\n",
      "| 42         | -4.84493        | -5.02055        |\n",
      "--------------------------------------------------\n"
     ]
    }
   ],
   "source": [
    "# Parameters for the algorithm\n",
    "batch = 400\n",
    "momentum = 0.5\n",
    "n_iter = 3000\n",
    "epsilon = 1e-8\n",
    "sigma = 1e-1\n",
    "delta = 1e-1\n",
    "alpha_init = 1e-5\n",
    "\n",
    "# Run algorithm\n",
    "mini_batch_momentum_gradient_method(batch, momentum, n_iter, epsilon, sigma, delta, alpha_init)"
   ]
  },
  {
   "cell_type": "markdown",
   "id": "07e7eebe-60b4-4daa-8a64-6c8367c13e4d",
   "metadata": {},
   "source": [
    "The results from the methods can be easily printed with functon `show_alg_stats()` and indicating the desired algorithms."
   ]
  },
  {
   "cell_type": "code",
   "execution_count": 35,
   "id": "82a64824-cbe9-499f-abf2-0c770d973d8c",
   "metadata": {},
   "outputs": [
    {
     "name": "stdout",
     "output_type": "stream",
     "text": [
      "------------------------------------------------------------------------------------------\n",
      "| Algorithm           | Error      | Tolerance    | Iterations | Time (sec) | Sec/iter   |\n",
      "------------------------------------------------------------------------------------------\n",
      "| Coordinate          | 0.09603    | 7e-09        | 7341       | 27.42444   | 0.00374    |\n",
      "------------------------------------------------------------------------------------------\n",
      "| Mini-batch          | 0.10513    | 0.0          | 421        | 6.31816    | 0.01501    |\n",
      "------------------------------------------------------------------------------------------\n",
      "| Mini-batch momentum | 0.10269    | 0.0          | 381        | 6.0768     | 0.01595    |\n",
      "------------------------------------------------------------------------------------------\n"
     ]
    }
   ],
   "source": [
    "show_alg_stats(['Coordinate', 'Mini-batch', 'Mini-batch momentum'])"
   ]
  },
  {
   "cell_type": "markdown",
   "id": "854f0d26-4053-493d-88fa-755d1f27ea5c",
   "metadata": {},
   "source": [
    "The **Mini-batch algorithm** with and without **momentum** perform similar. Mention there are not many samples, so the techniques could not provide all the potential. In addition, the batch size of the method with momentum has not been chosen appopiately, a tuning process of this parameter could lead to better results than the base algorithm.\n",
    "\n",
    "Both mini-batch approaches are significantly better than the **Coordinate** method in terms of iterations.\n",
    "\n",
    "The statistics of all the methods can be printed with `show_alg_stats()`."
   ]
  },
  {
   "cell_type": "code",
   "execution_count": 36,
   "id": "41a7d87b-9ad7-477e-b47a-89caa4858d13",
   "metadata": {},
   "outputs": [
    {
     "name": "stdout",
     "output_type": "stream",
     "text": [
      "------------------------------------------------------------------------------------------\n",
      "| Algorithm           | Error      | Tolerance    | Iterations | Time (sec) | Sec/iter   |\n",
      "------------------------------------------------------------------------------------------\n",
      "| Gradient            | 0.09287    | 43.065986502 | 1999       | 10.77377   | 0.00539    |\n",
      "------------------------------------------------------------------------------------------\n",
      "| Newton              | 0.0        | 2.813e-06    | 499        | 27.89775   | 0.05591    |\n",
      "------------------------------------------------------------------------------------------\n",
      "| Quasi-Newton        | 0.0        | 0.334951676  | 999        | 9.06882    | 0.00908    |\n",
      "------------------------------------------------------------------------------------------\n",
      "| Coordinate          | 0.09603    | 7e-09        | 7341       | 27.42444   | 0.00374    |\n",
      "------------------------------------------------------------------------------------------\n",
      "| Mini-batch          | 0.10513    | 0.0          | 421        | 6.31816    | 0.01501    |\n",
      "------------------------------------------------------------------------------------------\n",
      "| Mini-batch momentum | 0.10269    | 0.0          | 381        | 6.0768     | 0.01595    |\n",
      "------------------------------------------------------------------------------------------\n"
     ]
    }
   ],
   "source": [
    "show_alg_stats()"
   ]
  },
  {
   "cell_type": "markdown",
   "id": "1807c78b-fa25-4937-aa9f-bd1aa6d1de78",
   "metadata": {},
   "source": [
    "The results can be compared from two perspectives, the estimation error and the computational resources. \n",
    "\n",
    "First algorithms provide a result more precise, but they take longer. In this problem, the difference in time is not significant, but it is necessary to mention than the algorithms implemented in section D are thought for problem with a huge amount of samples and variables. In these situations, the difference in the computational resources is critical."
   ]
  },
  {
   "cell_type": "markdown",
   "id": "c1f834f3-35eb-4489-9c96-55340bb778e8",
   "metadata": {},
   "source": [
    "## E. Constrained problem\n",
    "\n",
    "The problem formulation is:\n",
    "\n",
    "\\begin{align*}\n",
    "\\underset{\\beta}{\\min} \\quad & ||y - X\\beta||_2^2 \\\\\n",
    "\\text{s.t.}& \\quad \\sum_{j=1}^K \\beta_j = 1\n",
    "\\end{align*}\n",
    "\n",
    "There are only equality constraints, so it is going to be solved using a **penalization algorithm**, through a sequence of unconstrained problems. The Gradient method is employed in each iteration:\n",
    "\n",
    "\\begin{align*}\n",
    "    \\underset{\\beta}{\\min} & \\quad ||y - X\\beta||_2^2 + \\frac{\\rho}{2} (\\sum_{j=1}^K \\beta_j - 1)^2\n",
    "\\end{align*}\n",
    "\n",
    "where $\\rho > 0$ is the penalization parameter. This value is increased in each iteration in order to obtain better solutions. The gradient in this case is:\n",
    "\n",
    "\\begin{align*}\n",
    "    \\nabla f(\\left.\\beta^{*} \\right) = -2(y - X\\beta)^T X + \\rho (\\sum_{j=1}^K \\beta_j - 1) e\n",
    "\\end{align*}"
   ]
  },
  {
   "cell_type": "code",
   "execution_count": 37,
   "id": "2d3edfb2-0f49-45ff-86e5-52c4a4ed376c",
   "metadata": {},
   "outputs": [],
   "source": [
    "# Objective function\n",
    "def constrained(beta_r, X, y, rho):\n",
    "    '''Implement constrained function\n",
    "    \n",
    "    '''\n",
    "    beta_r = np.matrix(beta_r)\n",
    "    z = y - np.dot(X, beta_r.T)\n",
    "    return np.dot(z.T,z) + (rho/2)*(np.sum(beta_r)-1)**2\n",
    "\n",
    "# Gradient\n",
    "def constrained_der(beta_r, X, y, rho):\n",
    "    '''Implement gradient of constrained function\n",
    "    \n",
    "    '''\n",
    "    beta_r = np.matrix(beta_r)\n",
    "    pp = -2*np.dot((y-np.dot(X,(beta_r).T)).T,X) + rho*(np.sum(beta_r) - 1)\n",
    "    aa = np.squeeze(np.asarray(pp))\n",
    "    return aa"
   ]
  },
  {
   "cell_type": "markdown",
   "id": "b32d7050-cb44-4124-82a9-a5f66209289d",
   "metadata": {},
   "source": [
    "The following function is used to print statistics of the problem. It shows:\n",
    "\n",
    "* Reached **tolerance**: calculated with the norm of the gradient.\n",
    "* Computational **time** in seconds.\n",
    "* Number of **iterations**.\n",
    "* **Time per iteration**, in seconds."
   ]
  },
  {
   "cell_type": "code",
   "execution_count": 38,
   "id": "788e4f03-7780-4331-8ef7-5fd601d4d026",
   "metadata": {},
   "outputs": [],
   "source": [
    "def show_constrained_stats(tol_pen, time_elapsed, iter_pen, sec_pen):\n",
    "    '''Print results\n",
    "    \n",
    "    '''\n",
    "    print('-'*53)\n",
    "    print(f\"| {'Tolerance':<10} | {'Time (sec)':<10} | {'Iterations':<10} | {'Sec/iter':<10} |\")\n",
    "    print('-'*53)\n",
    "    print(f\"| {tol_pen:<10} | {time_elapsed:<10} | {iter_pen:<10} | {sec_pen:<10} |\")\n",
    "    print('-'*53)"
   ]
  },
  {
   "cell_type": "code",
   "execution_count": 39,
   "id": "0ae1f555-6bc7-4d45-8d66-1bb000adda07",
   "metadata": {},
   "outputs": [],
   "source": [
    "def constrained_problem(n_iter=2000, n_iter_pen=1000, epsilon=1e-4, epsilon_pen=1e-8, sigma=1e-5, delta=0.01, alpha_init=1e-5, eta=1.5, rho_init=1.5):\n",
    "    '''Implement constrained problem\n",
    "    \n",
    "    '''\n",
    "    (a,b) = X.shape\n",
    "    \n",
    "    # Initial values for the variables and data containers\n",
    "    beta_iter = np.zeros((b, n_iter_pen))\n",
    "    OF_iter = np.zeros(n_iter)\n",
    "    tol_iter = np.zeros(n_iter)\n",
    "    alpha_iter = np.zeros(n_iter)\n",
    "\n",
    "    # Time start\n",
    "    time_start = time.process_time()\n",
    "    \n",
    "    # Unconstrained problem iterations\n",
    "    t=0\n",
    "    tol_pen = 10000\n",
    "    while (t <= n_iter_pen-2) and (tol_pen>epsilon_pen):\n",
    "        t=t+1\n",
    "        if t==1:\n",
    "            beta = np.zeros(b)\n",
    "            rho = rho_init\n",
    "        else:\n",
    "            beta = beta_iter[:, t-1]\n",
    "        \n",
    "        # Gradient method\n",
    "        i=0\n",
    "        tol = 10000\n",
    "        while (i <= n_iter-2) and (tol>epsilon):\n",
    "            i=i+1\n",
    "            # compute gradient\n",
    "            grad = constrained_der(beta, X, y, rho)\n",
    "            # compute descent direction\n",
    "            ddirect = -grad\n",
    "            \n",
    "            # Armijo rule to adjust alph: now alpha is calculated with delta\n",
    "            alpha = alpha_init\n",
    "            while constrained(beta+alpha*ddirect, X, y, rho) > constrained(beta, X, y, rho) + alpha*sigma*np.dot(grad,ddirect.T):\n",
    "                alpha=alpha*delta\n",
    "                \n",
    "            # compute new point\n",
    "            beta = beta + alpha*ddirect\n",
    "            tol=np.linalg.norm(grad, ord=2)\n",
    "        \n",
    "        beta_iter[:, t] = beta\n",
    "        \n",
    "        # update penalization term\n",
    "        rho = rho*eta\n",
    "        \n",
    "        if t>1:\n",
    "            # compare with the previous solution\n",
    "            tol_pen=np.linalg.norm(beta_iter[:,t]-beta_iter[:,t-1],ord=2)\n",
    "            \n",
    "        \n",
    "        \n",
    "    # Measure elapsed time\n",
    "    time_elapsed = (time.process_time() - time_start)\n",
    "    \n",
    "    # Show stats\n",
    "    show_constrained_stats(round(tol_pen, 5), round(time_elapsed, 2), t, round(time_elapsed/i, 5))\n",
    "    \n",
    "    return beta_iter, t"
   ]
  },
  {
   "cell_type": "code",
   "execution_count": 40,
   "id": "1cdaa8ea-d4c6-40c0-ab12-0695d1a9d1c1",
   "metadata": {
    "tags": []
   },
   "outputs": [
    {
     "name": "stdout",
     "output_type": "stream",
     "text": [
      "-----------------------------------------------------\n",
      "| Tolerance  | Time (sec) | Iterations | Sec/iter   |\n",
      "-----------------------------------------------------\n",
      "| 0.0        | 2273.0     | 54         | 2.27527    |\n",
      "-----------------------------------------------------\n"
     ]
    }
   ],
   "source": [
    "# Parameters for the algorithm\n",
    "n_iter = 1000         # maximum number of gradient iterations\n",
    "n_iter_pen = 1000     # maximum number of penalization iterations\n",
    "epsilon = 1e-8        # tolerance gradient limit\n",
    "epsilon_pen = 1e-8    # tolerance penalization limit\n",
    "sigma = 1e-2          # Armijo rule parameter\n",
    "delta = 3e-1          # Armijo rule parameter\n",
    "alpha_init = 3e-1     # initial alpha for Armijo rule\n",
    "eta = 1.5             # penalization parameter\n",
    "rho_init = 1          # initial rho\n",
    "\n",
    "# Run algorithm\n",
    "beta_iter, t = constrained_problem(n_iter, n_iter_pen, epsilon, epsilon_pen, sigma, delta, alpha_init, eta, rho_init)"
   ]
  },
  {
   "cell_type": "markdown",
   "id": "d5ded481-973f-49a5-922f-d56a0f771808",
   "metadata": {},
   "source": [
    "In order to see if the algorithm is working, we can check if the constraint is satisfied as the number of iterations increases. If $\\sum_{j=1}^K \\beta_j = 1$, the logarithmic of the sum of $\\beta$ should converge to zero. It means the unconstrained situation is becoming more constrained, what is the objective of this problem."
   ]
  },
  {
   "cell_type": "code",
   "execution_count": 41,
   "id": "f17e6263-a739-45d3-b23e-0c704fc9b98f",
   "metadata": {},
   "outputs": [
    {
     "data": {
      "text/plain": [
       "[<matplotlib.lines.Line2D at 0x7fe2cc0db610>]"
      ]
     },
     "execution_count": 41,
     "metadata": {},
     "output_type": "execute_result"
    },
    {
     "data": {
      "image/png": "[encoded data removed]",
      "text/plain": [
       "<Figure size 576x432 with 1 Axes>"
      ]
     },
     "metadata": {},
     "output_type": "display_data"
    }
   ],
   "source": [
    "%%capture --no-display\n",
    "plt.figure(figsize=(8, 6))\n",
    "plt.xlabel('Iterations')\n",
    "plt.ylabel('Logarithmic sum of betas')\n",
    "plt.plot(np.log(np.sum(beta_iter, axis=0)[0:t]));"
   ]
  },
  {
   "cell_type": "markdown",
   "id": "8e4ae26e-43ca-400d-aa81-58cf880836db",
   "metadata": {},
   "source": [
    "As it can be seen in the previous plot, the method is working properly. In next cell it is shown how the values of $\\beta$ change until the tolerance limit is reached."
   ]
  },
  {
   "cell_type": "code",
   "execution_count": 42,
   "id": "a6782142-1060-48fd-b598-c35abc762065",
   "metadata": {},
   "outputs": [
    {
     "data": {
      "image/png": "[encoded data removed]",
      "text/plain": [
       "<Figure size 576x432 with 1 Axes>"
      ]
     },
     "metadata": {},
     "output_type": "display_data"
    }
   ],
   "source": [
    "plt.figure(figsize=(8, 6))\n",
    "plt.xlabel('Iterations')\n",
    "plt.ylabel('Betas')\n",
    "plt.plot(beta_iter[:, 0:t].T);"
   ]
  },
  {
   "cell_type": "markdown",
   "id": "fd143ae3-9269-41f6-a5e5-de141b4c6153",
   "metadata": {},
   "source": [
    "Most of the regression coefficients change in the first iterations and then remain constant. There is one which is slightly modified at the beginning and then exponentially until one point where it also does not change."
   ]
  }
 ],
 "metadata": {
  "kernelspec": {
   "display_name": "Python 3 (ipykernel)",
   "language": "python",
   "name": "python3"
  },
  "language_info": {
   "codemirror_mode": {
    "name": "ipython",
    "version": 3
   },
   "file_extension": ".py",
   "mimetype": "text/x-python",
   "name": "python",
   "nbconvert_exporter": "python",
   "pygments_lexer": "ipython3",
   "version": "3.9.5"
  }
 },
 "nbformat": 4,
 "nbformat_minor": 5
}
